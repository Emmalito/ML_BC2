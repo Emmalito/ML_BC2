{
 "cells": [
  {
   "cell_type": "markdown",
   "metadata": {},
   "source": [
    "## 5- Next Best Action\n",
    "\n",
    "Now, we have our models that allows us to compute needs'prediction for a client. The final step is to create a simple recommandation system for the seller, which use our models to detect a need or a not need of a client and then recommend to him the next best action. To do it, we will:\n",
    "- Predict the client need (Accumulation, Investment, both or none)\n",
    "- Match the prediction with the product type (if we do not have a need, we stop here)\n",
    "- Match the product risk with the client risk\n",
    "- Propose a list of products\n",
    "\n",
    "So let us start."
   ]
  },
  {
   "cell_type": "code",
   "execution_count": 1,
   "metadata": {},
   "outputs": [
    {
     "name": "stdout",
     "output_type": "stream",
     "text": [
      "/home/emmalito/Bureau/Ensimag/S8_Milan/Fintech/ML_BC2\n"
     ]
    }
   ],
   "source": [
    "#Classical libraries\n",
    "import pandas as pd\n",
    "import seaborn as sns\n",
    "\n",
    "#Our functions\n",
    "%cd ..\n",
    "from src.nbaFnct import *"
   ]
  },
  {
   "cell_type": "markdown",
   "metadata": {},
   "source": [
    "First, we have to import the products dataset and the clients dataset to visualize them with some plots. "
   ]
  },
  {
   "cell_type": "code",
   "execution_count": 4,
   "metadata": {},
   "outputs": [],
   "source": [
    "# Restore the dataset\n",
    "%store -r dataset"
   ]
  },
  {
   "cell_type": "code",
   "execution_count": 76,
   "metadata": {},
   "outputs": [
    {
     "data": {
      "text/plain": [
       "<matplotlib.axes._subplots.AxesSubplot at 0x7f8853b4adc0>"
      ]
     },
     "execution_count": 76,
     "metadata": {},
     "output_type": "execute_result"
    },
    {
     "data": {
      "image/png": "[encoded data removed]",
      "text/plain": [
       "<Figure size 432x288 with 1 Axes>"
      ]
     },
     "metadata": {
      "needs_background": "light"
     },
     "output_type": "display_data"
    }
   ],
   "source": [
    "riskIncomeClient = dataset[(dataset.values[:,5]==1)][\"RiskPropensity\"] #Positive Income target\n",
    "sns.boxplot(x=riskIncomeClient)"
   ]
  },
  {
   "cell_type": "markdown",
   "metadata": {},
   "source": [
    "Here is the box plot of risk propensity for clients who have an income need. It is a normalised score, from 0 to 1, which evaluate the client risk. The minimum level of risk is 0.02 and the maximum is 0.88.\n",
    "\n",
    "We have 50% of client risk which are between 0.25 and 0.48 with the median at 0.37.\n",
    "\n",
    "We can also see that we have two outliers datas, include the maximum risk at 0.88."
   ]
  },
  {
   "cell_type": "code",
   "execution_count": 77,
   "metadata": {},
   "outputs": [
    {
     "data": {
      "text/plain": [
       "<matplotlib.axes._subplots.AxesSubplot at 0x7f8853b73430>"
      ]
     },
     "execution_count": 77,
     "metadata": {},
     "output_type": "execute_result"
    },
    {
     "data": {
      "image/png": "[encoded data removed]",
      "text/plain": [
       "<Figure size 432x288 with 1 Axes>"
      ]
     },
     "metadata": {
      "needs_background": "light"
     },
     "output_type": "display_data"
    }
   ],
   "source": [
    "riskAccumulationClient = dataset[(dataset.values[:,6]==1)][\"RiskPropensity\"] #Positive Accumulation target\n",
    "sns.boxplot(x=riskAccumulationClient)"
   ]
  },
  {
   "cell_type": "markdown",
   "metadata": {},
   "source": [
    "Here is the box plot of risk propensity for client who have accumulation need. Again, the minimum value is 2% and the maximum is 88%. We also have some extrem values a bit before 80%.\n",
    "\n",
    "According to the box plot, 50% of the risk scores is between 26 and 47% with a median at 36%.\n",
    "\n",
    "Now, let us see the histogram of the risk propensity. "
   ]
  },
  {
   "cell_type": "code",
   "execution_count": 59,
   "metadata": {},
   "outputs": [
    {
     "data": {
      "text/plain": [
       "<matplotlib.axes._subplots.AxesSubplot at 0x7f8858054fd0>"
      ]
     },
     "execution_count": 59,
     "metadata": {},
     "output_type": "execute_result"
    },
    {
     "data": {
      "image/png": "[encoded data removed]",
      "text/plain": [
       "<Figure size 432x288 with 1 Axes>"
      ]
     },
     "metadata": {
      "needs_background": "light"
     },
     "output_type": "display_data"
    }
   ],
   "source": [
    "# Histogram of RiskPropensity by IncomeInvestment\n",
    "sns.histplot(x=\"RiskPropensity\", data=dataset, hue=\"IncomeInvestment\", stat=\"percent\", common_norm=False)"
   ]
  },
  {
   "cell_type": "markdown",
   "metadata": {},
   "source": [
    "This grah is the histogram of the feature **RiskPropensity** for positive (in orange) and negative (in blue) target *IncomeInvestment* normalized in percentage.\n",
    "\n",
    "We can see that globaly, the distribution for positive and negative target are quite similar.\n",
    "\n",
    "For the lower risk (under 0.2) the distribution for the positive target is a little bit superior (except for one case) but positive and negative target follow the same dynamic. \n",
    "\n",
    "For the risk between 0.2 and 0.4, the distribution for negative target are more higher. For the risk above 0.4, the distribution of positive target is superior, especially for some value."
   ]
  },
  {
   "cell_type": "code",
   "execution_count": 60,
   "metadata": {},
   "outputs": [
    {
     "data": {
      "text/plain": [
       "<matplotlib.axes._subplots.AxesSubplot at 0x7f8853f1c490>"
      ]
     },
     "execution_count": 60,
     "metadata": {},
     "output_type": "execute_result"
    },
    {
     "data": {
      "image/png": "[encoded data removed]",
      "text/plain": [
       "<Figure size 432x288 with 1 Axes>"
      ]
     },
     "metadata": {
      "needs_background": "light"
     },
     "output_type": "display_data"
    }
   ],
   "source": [
    "# Histogram of RiskPropensity by AccumulationInvestment\n",
    "sns.histplot(x=\"RiskPropensity\", data=dataset, hue=\"AccumulationInvestment\", stat=\"percent\", common_norm=False)"
   ]
  },
  {
   "cell_type": "markdown",
   "metadata": {},
   "source": [
    "Here again, this grah is the histogram of the feature **RiskPropensity** for positive and negative target *AccumulationInvestment* normalize in percentage.\n",
    "\n",
    "For the risk under 0.2, the distribution of negative target is superior than the positive one. The dynamic for the negative ones is superior than the positive one.\n",
    "\n",
    "For the risk between 0.2 and 0.5, the distribution of positive target take the lead and the dynamics is completly different.\n",
    "\n",
    "Then, for the risk above 0.5, the dynamics of positive and negative target distribution are similar and also the distribution."
   ]
  },
  {
   "cell_type": "markdown",
   "metadata": {},
   "source": [
    "Now, we will analyse the dataset of the different products."
   ]
  },
  {
   "cell_type": "code",
   "execution_count": 33,
   "metadata": {},
   "outputs": [],
   "source": [
    "# Dataset of the product\n",
    "xls = pd.ExcelFile('src/Needs.xls')\n",
    "productsData = pd.read_excel(xls, 'Products', index_col=0)\n",
    "# Income and Accumulation products dataset\n",
    "ProductInc = productsData[productsData[\"Type\"]==1].sort_values(by=['Risk'], ascending=False)\n",
    "ProductAcc = productsData[productsData[\"Type\"]==0].sort_values(by=['Risk'], ascending=False)"
   ]
  },
  {
   "cell_type": "code",
   "execution_count": 34,
   "metadata": {},
   "outputs": [
    {
     "name": "stdout",
     "output_type": "stream",
     "text": [
      "           Type  Risk\n",
      "IDProduct            \n",
      "4             0  0.44\n",
      "2             0  0.30\n",
      "10            0  0.13\n",
      "3             0  0.12\n"
     ]
    }
   ],
   "source": [
    "print(ProductAcc)"
   ]
  },
  {
   "cell_type": "markdown",
   "metadata": {},
   "source": [
    "This is the dataset of accumulation products (type = 0). It has only 4 products and we can see that the risk is not so high, the maximum is 0.44.\n",
    "\n",
    "With this level of risk, we can imagine that each client will have a product which can respect their risk propensity.\n",
    "\n",
    "Two product, id 3 and 10, have a similar risk (0.12 and 0.13). We will have to take into account for the recommandation."
   ]
  },
  {
   "cell_type": "code",
   "execution_count": 35,
   "metadata": {},
   "outputs": [
    {
     "name": "stdout",
     "output_type": "stream",
     "text": [
      "           Type  Risk\n",
      "IDProduct            \n",
      "11            1  0.88\n",
      "7             1  0.75\n",
      "1             1  0.55\n",
      "8             1  0.48\n",
      "5             1  0.41\n",
      "6             1  0.36\n",
      "9             1  0.27\n"
     ]
    }
   ],
   "source": [
    "print(ProductInc)"
   ]
  },
  {
   "cell_type": "markdown",
   "metadata": {},
   "source": [
    "This is the dataset of income products (type = 1). It has 7 products, more than the accumulation one. The risks go from 0.27 to 0.88.\n",
    "\n",
    "We can see that the risk level is more higher (more than 25% of the clients have a risk propensity bellow 0.27!).\n",
    "\n",
    "We know that 75% of clients with an income need have a risk propensity under 0.48. Here, we have 3 products above this threshold.\n",
    "\n",
    "We also know that the maximum risk propensity is a little bit higher than 0.88 and here we have a product with a risk at 0.88.\n",
    "\n",
    "We will have to take into account these observations for the Income recommandation system."
   ]
  },
  {
   "cell_type": "markdown",
   "metadata": {},
   "source": [
    "### Recommandation System\n",
    "\n",
    "parler du nba"
   ]
  },
  {
   "cell_type": "code",
   "execution_count": null,
   "metadata": {},
   "outputs": [],
   "source": [
    "NBA(0.10, Product_acc)"
   ]
  },
  {
   "cell_type": "code",
   "execution_count": null,
   "metadata": {},
   "outputs": [],
   "source": [
    "NBA(0.10, Product_acc)"
   ]
  }
 ],
 "metadata": {
  "interpreter": {
   "hash": "916dbcbb3f70747c44a77c7bcd40155683ae19c65e1c03b4aa3499c5328201f1"
  },
  "kernelspec": {
   "display_name": "Python 3.8.10 64-bit",
   "language": "python",
   "name": "python3"
  },
  "language_info": {
   "codemirror_mode": {
    "name": "ipython",
    "version": 3
   },
   "file_extension": ".py",
   "mimetype": "text/x-python",
   "name": "python",
   "nbconvert_exporter": "python",
   "pygments_lexer": "ipython3",
   "version": "3.8.10"
  },
  "orig_nbformat": 4
 },
 "nbformat": 4,
 "nbformat_minor": 2
}
