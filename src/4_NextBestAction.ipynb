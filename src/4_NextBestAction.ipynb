{
 "cells": [
  {
   "cell_type": "markdown",
   "metadata": {},
   "source": [
    "## 4- Next Best Action\n"
   ]
  },
  {
   "cell_type": "code",
   "execution_count": null,
   "metadata": {},
   "outputs": [],
   "source": [
    "# Classical libraries\n",
    "import numpy as np\n",
    "import pandas as pd\n",
    "import seaborn as sns\n",
    "import matplotlib.pyplot as plt"
   ]
  },
  {
   "cell_type": "code",
   "execution_count": null,
   "metadata": {},
   "outputs": [],
   "source": [
    "#productData = pd.read_excel('Needs.xls', index_col=0)\n",
    "xls = pd.ExcelFile('Needs.xls')\n",
    "productsData = pd.read_excel(xls, 'Products', index_col=0)\n",
    "productsData.head()"
   ]
  },
  {
   "cell_type": "code",
   "execution_count": null,
   "metadata": {},
   "outputs": [],
   "source": [
    "Product_inc = productsData[productsData[\"Type\"]==1].sort_values(by=['Risk'], ascending=False)\n",
    "Product_acc = productsData[productsData[\"Type\"]==0].sort_values(by=['Risk'], ascending=False)\n",
    "print(Product_acc)"
   ]
  },
  {
   "cell_type": "code",
   "execution_count": null,
   "metadata": {},
   "outputs": [],
   "source": [
    "print(Product_acc.index[1])"
   ]
  },
  {
   "cell_type": "code",
   "execution_count": null,
   "metadata": {},
   "outputs": [],
   "source": [
    "def NBA_acc(clientRisk):\n",
    "    index=0\n",
    "    while index < len(Product_acc) and clientRisk < Product_acc[\"Risk\"].values[index]:\n",
    "        index+=1\n",
    "    if index == len(Product_acc):\n",
    "        return 0\n",
    "    return Product_acc.index.values[index:] "
   ]
  },
  {
   "cell_type": "code",
   "execution_count": null,
   "metadata": {},
   "outputs": [],
   "source": [
    "def NBA_inc(clientRisk):\n",
    "    index=0\n",
    "    while index < len(Product_inc) and clientRisk < Product_inc[\"Risk\"].values[index]:\n",
    "        index+=1\n",
    "    if index == len(Product_inc):\n",
    "        return 0\n",
    "    return Product_inc.index.values[index:] "
   ]
  },
  {
   "cell_type": "code",
   "execution_count": null,
   "metadata": {},
   "outputs": [],
   "source": [
    "print(dataset['RiskPropensity'].values)"
   ]
  },
  {
   "cell_type": "code",
   "execution_count": null,
   "metadata": {},
   "outputs": [],
   "source": [
    "idClient = dataset.index.values\n",
    "riskClient = dataset['RiskPropensity'].values\n",
    "NBA=[[0,0,0]]*len(X)\n",
    "for index in range(len(X)) :\n",
    "    clientRisk = riskClient[index]\n",
    "    NBA[index] = idClient[index], NBA_inc(clientRisk), NBA_acc(clientRisk)\n"
   ]
  },
  {
   "cell_type": "code",
   "execution_count": null,
   "metadata": {},
   "outputs": [],
   "source": [
    "for i in range(4):\n",
    "    print(\"IdClient:\", NBA[i][0], \" needs Inc product(s):\", NBA[i][1], \"and Acc product(s):\", NBA[i][2])"
   ]
  },
  {
   "cell_type": "code",
   "execution_count": null,
   "metadata": {},
   "outputs": [],
   "source": [
    "#b = len(X_train)//100\n",
    "#lr_model_history = nnAccMod.fit(X_train, Acc_train, batch_size=b, epochs=300, validation_data=(X_val, Acc_val), verbose=0)\n",
    "#\n",
    "## Plot the loss function\n",
    "#fig, ax = plt.subplots(1, 1, figsize=(10,6))\n",
    "#ax.plot(np.sqrt(lr_model_history.history['loss']), 'r', label='train')\n",
    "#ax.plot(np.sqrt(lr_model_history.history['val_loss']), 'b' ,label='val')\n",
    "#ax.set_xlabel(r'Epoch', fontsize=20)\n",
    "#ax.set_ylabel(r'Loss', fontsize=20)\n",
    "#ax.legend()\n",
    "#ax.tick_params(labelsize=20)\n",
    "#\n",
    "## Plot the accuracy\n",
    "#fig, ax = plt.subplots(1, 1, figsize=(10,6))\n",
    "#ax.plot(np.sqrt(lr_model_history.history['accuracy']), 'r', label='train')\n",
    "#ax.plot(np.sqrt(lr_model_history.history['val_accuracy']), 'b' ,label='val')\n",
    "#ax.set_xlabel(r'Epoch', fontsize=20)\n",
    "#ax.set_ylabel(r'Accuracy', fontsize=20)\n",
    "#ax.legend()\n",
    "#ax.tick_params(labelsize=20)"
   ]
  }
 ],
 "metadata": {
  "language_info": {
   "name": "python"
  },
  "orig_nbformat": 4
 },
 "nbformat": 4,
 "nbformat_minor": 2
}
