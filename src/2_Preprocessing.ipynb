{
 "cells": [
  {
   "cell_type": "markdown",
   "metadata": {},
   "source": [
    "## 2. Preprocessing\n",
    "\n",
    "After having a look at the data, we now want to pre-process them for our algorithms. To do such a thing, we know that data have to be clean and well scale in order to maximize the learning of  model :  **garbage in garbage out !**\n",
    "\n",
    "The different steps we have planned are :\n",
    "- **Verify the data**: Verify that all the data is correct (no missing and with the good type)\n",
    "- **Scales features**: use of zcore as usual\n",
    "- **Treate Outliers**: none normally\n",
    "- **Dataset splitting**: cross validation and test set\n",
    "- **Features selection**: see correlation and real impact via filter/wrapper methods and dimensionality reduction \n",
    "- **Dimensionality Reduction**: PCA"
   ]
  },
  {
   "cell_type": "code",
   "execution_count": 3,
   "metadata": {},
   "outputs": [],
   "source": [
    "# Classical libraries\n",
    "import numpy as np\n",
    "import pandas as pd\n",
    "import seaborn as sns\n",
    "import matplotlib.pyplot as plt\n",
    "\n",
    "#Libraries for Pre-processing\n",
    "from scipy.stats import zscore\n",
    "from sklearn.model_selection import train_test_split\n",
    "from yellowbrick.features import rank1d, rank2d\n",
    "\n",
    "#Libraries for ML models\n",
    "from sklearn.linear_model import LogisticRegression as LG\n",
    "from sklearn.ensemble import RandomForestClassifier as RF\n",
    "from sklearn.tree import DecisionTreeClassifier as DT\n",
    "\n",
    "from sklearn.decomposition import PCA"
   ]
  },
  {
   "cell_type": "markdown",
   "metadata": {},
   "source": [
    "### Datas Pre-processing\n",
    "\n",
    "Before starting anything, let us check if is not any missing value in our dataset"
   ]
  },
  {
   "cell_type": "code",
   "execution_count": 4,
   "metadata": {},
   "outputs": [
    {
     "data": {
      "text/plain": [
       "False"
      ]
     },
     "execution_count": 4,
     "metadata": {},
     "output_type": "execute_result"
    }
   ],
   "source": [
    "# load dataset\n",
    "%store -r dataset\n",
    "np.any(np.isnan(dataset.values))"
   ]
  },
  {
   "cell_type": "markdown",
   "metadata": {},
   "source": [
    "There is no missing value in our dataset so, we can continue.\n",
    "\n",
    "**Remarque**: Previously we have done a log transformation for the *Income* and *Wealth* features in the dataset."
   ]
  },
  {
   "cell_type": "markdown",
   "metadata": {},
   "source": [
    "Then, we normalise our data with the z-score technique."
   ]
  },
  {
   "cell_type": "code",
   "execution_count": 5,
   "metadata": {},
   "outputs": [
    {
     "name": "stdout",
     "output_type": "stream",
     "text": [
      "Stored 'data_mean' (ndarray)\n",
      "Stored 'data_std' (ndarray)\n"
     ]
    }
   ],
   "source": [
    "#We convert it into a numpay array\n",
    "data = dataset[[\"Age\",\"Gender\", \"FamilyMembers\", \"FinancialEducation\", \"RiskPropensity\", \"logIncome\", \"logWealth\"]].values\n",
    "\n",
    "#We store mean and std before use z-score scaler\n",
    "data_mean = np.mean(data, axis=0)\n",
    "data_std = np.std(data, axis=0)\n",
    "\n",
    "%store data_mean\n",
    "%store data_std\n",
    "\n",
    "#We apply the z-score\n",
    "X =  zscore(data)"
   ]
  },
  {
   "cell_type": "markdown",
   "metadata": {},
   "source": [
    "And to finish, we take the targets from our dataset."
   ]
  },
  {
   "cell_type": "code",
   "execution_count": 6,
   "metadata": {},
   "outputs": [],
   "source": [
    "# we store the target\n",
    "t_inc = dataset['IncomeInvestment'].values == 1\n",
    "t_acc = dataset['AccumulationInvestment'].values == 1"
   ]
  },
  {
   "cell_type": "markdown",
   "metadata": {},
   "source": [
    "Now, we split our dataset, randomly, into two subsets: The training set (with 80% of the datas) and the Test set (with 20% of the datas)."
   ]
  },
  {
   "cell_type": "code",
   "execution_count": 7,
   "metadata": {},
   "outputs": [],
   "source": [
    "#Train = 80% % ; Test = 20 %\n",
    "X_train, X_test, Inc_train, Inc_test, Acc_train, Acc_test = train_test_split(X, t_inc, t_acc, test_size=0.2, shuffle=True, random_state=0)"
   ]
  },
  {
   "cell_type": "markdown",
   "metadata": {},
   "source": [
    "Now we have all our data pre-processes, we want to see the impact of different features. We assume to have good computational ressources but will try to minimize the cost when we can."
   ]
  },
  {
   "cell_type": "markdown",
   "metadata": {},
   "source": [
    "### Features Selection"
   ]
  },
  {
   "cell_type": "markdown",
   "metadata": {},
   "source": [
    "**Idea :** We are going to first use filtration methods on our feature. This allow us to rank them subject to different metrics. This is usefull since it have a low cost but can neglect correlation over data or feature so this is just a first step. \n",
    "\n",
    "In addition, we will use wrapper methods. Backward to confirm or affirm result get from filtration. Forward to better rank our features.\n",
    "\n",
    "We are also going to see some feature importance (a bit of interpretability) to have a first real explanation on how can be modeled our data. \n",
    "\n",
    "To do so, we will use simple models that allow interpretability and and a reasonable computational cost. For that, we have chosen to deal with a Decision Tree.\n",
    "\n",
    "To conclude, we of course need to process a PCA as it is done to reduce the dimensionality of our problem. Let us see all of these methods!"
   ]
  },
  {
   "cell_type": "code",
   "execution_count": 8,
   "metadata": {},
   "outputs": [
    {
     "data": {
      "image/png": "[encoded data removed]",
      "text/plain": [
       "<Figure size 1080x360 with 3 Axes>"
      ]
     },
     "metadata": {
      "needs_background": "light"
     },
     "output_type": "display_data"
    }
   ],
   "source": [
    "# First : filtration method\n",
    "\n",
    "_, axes = plt.subplots(1, 2, figsize=(15,5))\n",
    "rank1d(dataset.drop([\"IncomeInvestment\", \"AccumulationInvestment\" ], axis=1), ax=axes[0], show=False)\n",
    "rank2d(dataset.drop([\"IncomeInvestment\", \"AccumulationInvestment\" ], axis=1), ax=axes[1], show=False)\n",
    "plt.show()"
   ]
  },
  {
   "cell_type": "markdown",
   "metadata": {},
   "source": [
    "Shapiro ranking can be seen as a ranking on how is the variability, stationnarirty or things like this of the data regarding the different features. It can be biased since there is no model but it give some information. Correlation rank is obvious.\n",
    "\n",
    "We can see that as expected, *FamilyMembers* and *Gender* have a lowest importance than the other. Gender is clearly not correlated with others features and confirm the well distributed fact over the others features, making it useless in our point of view.\n",
    "\n",
    "We also see again the correlation between *RiskPropensity* and *FinancialEducation*, and *logIncome* and *logWealth*, that may be very important features to explain the model.\n",
    "\n",
    "Another point that confirm our idea about the fact that *Age* is more relevant than *FamilyMembers* is that we can see a correlation between age and wealth (obvious when we think so). Thus we think *Age* will give more information in different models.\n",
    "\n",
    "The correlation between *Income* and *Wealth* can also be obvisous since more income lead to bigger wealth. "
   ]
  },
  {
   "cell_type": "markdown",
   "metadata": {},
   "source": [
    "#### Backward approach\n",
    "\n",
    "Let's now train a simple model to do a Backward approach, to validate this observation.\n",
    "\n",
    "We base it on the accuracy since it is simple to have it and an easy interpretable score, but we will see later that others metrics are more relevant for our problem"
   ]
  },
  {
   "cell_type": "code",
   "execution_count": 9,
   "metadata": {},
   "outputs": [
    {
     "name": "stdout",
     "output_type": "stream",
     "text": [
      "full accuracy for accumulation:  0.74\n",
      "without  Age and with the rest 0.698\n",
      "without  Gender and with the rest 0.727\n",
      "without  FamilyMembers and with the rest 0.728\n",
      "without  FinancialEducation and with the rest 0.723\n",
      "without  RiskPropensity and with the rest 0.747\n",
      "without  logIncome and with the rest 0.592\n",
      "without  logWealth and with the rest 0.597\n",
      "\n",
      "full accuracy for Income:  0.723\n",
      "without  Age and with the rest 0.667\n",
      "without  Gender and with the rest 0.687\n",
      "without  FamilyMembers and with the rest 0.694\n",
      "without  FinancialEducation and with the rest 0.699\n",
      "without  RiskPropensity and with the rest 0.712\n",
      "without  logIncome and with the rest 0.662\n",
      "without  logWealth and with the rest 0.618\n"
     ]
    }
   ],
   "source": [
    "# Backward wrapper method\n",
    "\n",
    "#feature order : {0:\"Age\", 1:\"Gender\", 2:\"FamilyMembers\", 3:\"FinancialEducation\", 4:\"RiskPropensity\", 5:\"logIncome\", 6: \"logWealth\"}\n",
    "classes = {0:\"Age\", 1:\"Gender\", 2:\"FamilyMembers\", 3:\"FinancialEducation\", 4:\"RiskPropensity\", 5:\"logIncome\", 6: \"logWealth\"}\n",
    "nb_classes = len(classes)\n",
    "\n",
    "# on accumulation investment :\n",
    "Accu =DT()\n",
    "Accu.fit(X_train, Acc_train) #Model with all the feature\n",
    "print(\"full accuracy for accumulation: \", Accu.score(X_test, Acc_test))\n",
    "for i in range(nb_classes): #For each feature\n",
    "    list = [j for j in range(nb_classes) if j!=i]\n",
    "    Accu_i = DT()\n",
    "    Accu_i.fit(X_train[:,list], Acc_train) #We train a model without it\n",
    "    print(\"without \", classes[i], \"and with the rest\", Accu_i.score(X_test[:,list], Acc_test))\n",
    "\n",
    "# on Income investment :\n",
    "Inc =DT()\n",
    "Inc.fit(X_train, Inc_train)\n",
    "print(\"\\nfull accuracy for Income: \", Inc.score(X_test, Inc_test))\n",
    "for i in range(nb_classes):\n",
    "    list = [j for j in range(nb_classes) if j!=i]\n",
    "    Inc_i = DT(class_weight={0:0.61, 1:0.39}) #Because the class is not balanced\n",
    "    Inc_i.fit(X_train[:,list], Inc_train)\n",
    "    print(\"without \", classes[i], \"and with the rest\", Inc_i.score(X_test[:,list], Inc_test))"
   ]
  },
  {
   "cell_type": "markdown",
   "metadata": {},
   "source": [
    "Here, we train a Decision Tree model for classification with all the features and then without one of them, for the prediction of our two target.\n",
    "\n",
    "For both, models without *Age*, *logIncome* and *logWealth* decrease significativly the accuaracy. We can understand so that is important features for the prediction.\n",
    "\n",
    "For the target **AccumulationInvestment**, removing the feature *FinancialEducation*, *Gender*, *FamilyMembers* or *RiskPropensity* decrease non significativly the accuracy (or can increase it in some tests cases depends on the train dataset and the model choosen).\n",
    "\n",
    "For the target **IncomeInvestment**, removing the feature *Gender* or *FamilyMembers* modify once again the accuracy non-significativly."
   ]
  },
  {
   "cell_type": "markdown",
   "metadata": {},
   "source": [
    "#### Forward approach\n",
    "\n",
    "Let us see what happend with a forward approach. The idea is to start from scratch and add to the model the feature wich increase the most the accuracy at each step until all the features are in the models.\n",
    "\n",
    "To test our previous idea, we do this operation with 4 sets of features: One with all, One without *Gender*, one without *FamilyMembers* and then of without this 2 features.\n",
    "\n",
    "We will see if what we saw is confirmed by this method."
   ]
  },
  {
   "cell_type": "code",
   "execution_count": 10,
   "metadata": {},
   "outputs": [],
   "source": [
    "#Forward Stepwise Selection\n",
    "\n",
    "def forwardFeatureSelect(features, X_train, X_test, isInc=1):\n",
    "    datas, datasTest = [], []\n",
    "    indexFeat, accTotal = [], []\n",
    "    for step_i in range(len(features)):\n",
    "        accMax, ind = -1, features[0]\n",
    "        for index in features:\n",
    "            feat, featTest = X_train[:,index], X_test[:,index]\n",
    "            train = np.array((datas + [feat]))\n",
    "            test = np.array((datasTest + [featTest]))\n",
    "            mod = None\n",
    "            if isInc :\n",
    "                mod = DT(class_weight={0:0.6, 1:0.4}) #Because the target is not balanced\n",
    "                mod.fit(train.transpose(), Inc_train)\n",
    "                acc = mod.score(test.transpose(), Inc_test)\n",
    "            else:\n",
    "                mod = DT()\n",
    "                mod.fit(train.transpose(), Acc_train)\n",
    "                acc = mod.score(test.transpose(), Acc_test)\n",
    "            if accMax < acc:\n",
    "                accMax = acc\n",
    "                ind = index\n",
    "        indexFeat.append(ind)\n",
    "        accTotal.append(accMax)\n",
    "        datas += [X_train[:,ind]]\n",
    "        datasTest += [X_test[:,ind]]\n",
    "        features.remove(ind)\n",
    "    return indexFeat, accTotal"
   ]
  },
  {
   "cell_type": "code",
   "execution_count": 11,
   "metadata": {},
   "outputs": [],
   "source": [
    "#Rappel: {0:\"Age\", 1:\"Gender\", 2:\"FamilyMembers\", 3:\"FinancialEducation\", 4:\"RiskPropensity\", 5:\"logIncome\", 6: \"logWealth\"}\n",
    "withAll = [0, 1, 2, 3, 4, 5, 6]\n",
    "withoutGender = [0, 2, 3, 4, 5, 6]\n",
    "withoutFamMem = [0, 1, 3, 4, 5, 6]\n",
    "withoutBoth = [0, 3, 4, 5, 6]"
   ]
  },
  {
   "cell_type": "code",
   "execution_count": 12,
   "metadata": {},
   "outputs": [
    {
     "name": "stdout",
     "output_type": "stream",
     "text": [
      "with all: ([0, 1, 2, 6, 5, 3, 4], [0.71, 0.706, 0.68, 0.638, 0.699, 0.697, 0.686])\n",
      "without Gender:  ([0, 2, 6, 5, 3, 4], [0.71, 0.694, 0.639, 0.689, 0.693, 0.689])\n",
      "without FamMem:  ([0, 1, 6, 5, 3, 4], [0.71, 0.706, 0.652, 0.694, 0.697, 0.697])\n",
      "without both:  ([0, 6, 5, 3, 4], [0.71, 0.655, 0.698, 0.706, 0.697])\n"
     ]
    }
   ],
   "source": [
    "#Forward Stepwise Selection for IncomeInvestment\n",
    "\n",
    "#Rappel: {0:\"Age\", 1:\"Gender\", 2:\"FamilyMembers\", 3:\"FinancialEducation\", 4:\"RiskPropensity\", 5:\"logIncome\", 6: \"logWealth\"}\n",
    "print(\"with all:\", forwardFeatureSelect(withAll, X_train, X_test))\n",
    "print(\"without Gender: \", forwardFeatureSelect(withoutGender, X_train, X_test))\n",
    "print(\"without FamMem: \", forwardFeatureSelect(withoutFamMem, X_train, X_test))\n",
    "print(\"without both: \", forwardFeatureSelect(withoutBoth, X_train, X_test))"
   ]
  },
  {
   "cell_type": "markdown",
   "metadata": {},
   "source": [
    "Let start by the first target. We can see that for the **IncomeInvstment** model, the feature *Age* (number 0) is the most important. For a coherent model, we choose to do not have only one feature in the model even if the accuracy is the biggest.\n",
    "\n",
    "**Results:** For this test, we can see that the biggest accuracy, according to our choice, is the model with the third set (without *FamilyMembers*) when we do not add the feature *FinancialEducation*.\n",
    "\n",
    "In addition, we can find the same features importance in our models (*Age*, *logWealth*, *logIncome*, *RiskPropensity* and *FinancialEducation*). The two features *Gender* and *FamilyMembers* do not affect the models as expected. We can see some similarities with all these models: Whatever the set which used, each model seem converge to the same result. \n",
    "\n",
    "We also can remark that the features *RiskPropensity* and *FinancialEducation* improve models accuracy but only if the other is not in the model! It can be explain by their high correlation. We can try to apply a ratio transformation to see if the models are affected by this correlation. \n",
    "\n",
    "To conclude, we can say that this technique confirm our doubts on the features *Gender* and *FamilyMembers* which are not usefull for us. In addition, we have to correct the effect of the correlation between *RiskPropensity* and *FinancialEducation* to improve our feature space."
   ]
  },
  {
   "cell_type": "code",
   "execution_count": 13,
   "metadata": {},
   "outputs": [],
   "source": [
    "#Rappel: {0:\"Age\", 1:\"Gender\", 2:\"FamilyMembers\", 3:\"FinancialEducation\", 4:\"RiskPropensity\", 5:\"logIncome\", 6: \"logWealth\"}\n",
    "withAll = [0, 1, 2, 3, 4, 5, 6]\n",
    "withoutGender = [0, 2, 3, 4, 5, 6]\n",
    "withoutFamMem = [0, 1, 3, 4, 5, 6]\n",
    "withoutBoth = [0, 3, 4, 5, 6]"
   ]
  },
  {
   "cell_type": "code",
   "execution_count": 14,
   "metadata": {},
   "outputs": [
    {
     "name": "stdout",
     "output_type": "stream",
     "text": [
      "with all: ([5, 6, 0, 3, 2, 1, 4], [0.551, 0.702, 0.732, 0.751, 0.749, 0.741, 0.726])\n",
      "without Gender: ([5, 6, 0, 3, 2, 4], [0.551, 0.7, 0.737, 0.743, 0.749, 0.731])\n",
      "without FamMem: ([5, 6, 0, 3, 1, 4], [0.551, 0.698, 0.726, 0.739, 0.745, 0.735])\n",
      "without Both: ([5, 6, 0, 3, 4], [0.551, 0.7, 0.731, 0.738, 0.734])\n"
     ]
    }
   ],
   "source": [
    "#Forward Stepwise Selection for AccumulationInvestment\n",
    "\n",
    "#Rappel: {0:\"Age\", 1:\"Gender\", 2:\"FamilyMembers\", 3:\"FinancialEducation\", 4:\"RiskPropensity\", 5:\"logIncome\", 6: \"logWealth\"}\n",
    "print(\"with all:\", forwardFeatureSelect(withAll, X_train, X_test, 0))\n",
    "print(\"without Gender:\", forwardFeatureSelect(withoutGender, X_train, X_test, 0))\n",
    "print(\"without FamMem:\", forwardFeatureSelect(withoutFamMem, X_train, X_test, 0))\n",
    "print(\"without Both:\", forwardFeatureSelect(withoutBoth, X_train, X_test, 0))"
   ]
  },
  {
   "cell_type": "markdown",
   "metadata": {},
   "source": [
    "For the target **AccumulationInvestment**, the most relevant feature is *logIncome*. Once again it is coherent with what we saw before.\n",
    "\n",
    "Here again, we can clearly see that:\n",
    "- the features *logWealth* and *Age* are also important for our model\n",
    "- the features *Gender* and *FamilyMembers* are not usefull\n",
    "- the correlation between *RiskPropensity* and *FinancialEducation* is negative for the models\n",
    "\n",
    "With this elements, we can make the same conclusion than before. We can remove the features *Gender* and *FamilyMembers* from our feature space and create a new feature which capture the relevant information from the features *RiskPropensity* and *FinancialEducation*."
   ]
  },
  {
   "cell_type": "markdown",
   "metadata": {},
   "source": [
    "#### Features correction\n",
    "\n",
    "We saw that the correlation between our two features perturbes our models. We want to fix that by creating a new feature, wich would be a ratio of the two, wich allows us to keep only the relevant information that our models need.\n",
    "\n",
    "Let try and see what we have."
   ]
  },
  {
   "cell_type": "code",
   "execution_count": 15,
   "metadata": {},
   "outputs": [],
   "source": [
    "#We create our new dataset with the ratio FinancialEducation/RiskPropensity\n",
    "TT_train = np.c_[X_train[:,[0,1,2]], (X_train[:,3]/X_train[:,4]), X_train[:,[5,6]]]\n",
    "TT_test = np.c_[X_test[:,[0,1,2]], (X_test[:,3]/X_test[:,4]), X_test[:,[5,6]]]"
   ]
  },
  {
   "cell_type": "code",
   "execution_count": 16,
   "metadata": {},
   "outputs": [],
   "source": [
    "#Rappel: {0:\"Age\", 1:\"Gender\", 2:\"FamilyMembers\", 3:\"newFeat\", 4:\"logIncome\", 5: \"logWealth\"}\n",
    "withAll = [0, 1, 2, 3, 4, 5]\n",
    "withoutGender = [0, 2, 3, 4, 5]\n",
    "withoutFamMem = [0, 1, 3, 4, 5]\n",
    "withoutBoth = [0, 3, 4, 5]"
   ]
  },
  {
   "cell_type": "code",
   "execution_count": 17,
   "metadata": {},
   "outputs": [
    {
     "name": "stdout",
     "output_type": "stream",
     "text": [
      "with all: ([0, 1, 2, 5, 4, 3], [0.71, 0.706, 0.68, 0.644, 0.701, 0.715])\n",
      "without Gender:  ([0, 2, 4, 5, 3], [0.71, 0.694, 0.634, 0.695, 0.708])\n",
      "without FamMem:  ([0, 1, 5, 4, 3], [0.71, 0.706, 0.655, 0.703, 0.71])\n",
      "without both:  ([0, 5, 4, 3], [0.71, 0.656, 0.693, 0.707])\n"
     ]
    }
   ],
   "source": [
    "#Then we run the test for the target IncomeInvestment\n",
    "print(\"with all:\", forwardFeatureSelect(withAll, TT_train, TT_test))\n",
    "print(\"without Gender: \", forwardFeatureSelect(withoutGender, TT_train, TT_test))\n",
    "print(\"without FamMem: \", forwardFeatureSelect(withoutFamMem, TT_train, TT_test))\n",
    "print(\"without both: \", forwardFeatureSelect(withoutBoth, TT_train, TT_test))"
   ]
  },
  {
   "cell_type": "markdown",
   "metadata": {},
   "source": [
    "Here the result are very close to the models with the two correlated features. We can see that our new feature always has a positive impact on our test. We can say that the ratio is a concluant experience for modelling the *IncomeInvestment* target.\n",
    "\n",
    "Now, we have to test our hypothesis on the other target."
   ]
  },
  {
   "cell_type": "code",
   "execution_count": 18,
   "metadata": {},
   "outputs": [],
   "source": [
    "#Rappel: {0:\"Age\", 1:\"Gender\", 2:\"FamilyMembers\", 3:\"newFeat\", 4:\"logIncome\", 5: \"logWealth\"}\n",
    "withAll = [0, 1, 2, 3, 4, 5]\n",
    "withoutGender = [0, 2, 3, 4, 5]\n",
    "withoutFamMem = [0, 1, 3, 4, 5]\n",
    "withoutBoth = [0, 3, 4, 5]"
   ]
  },
  {
   "cell_type": "code",
   "execution_count": 19,
   "metadata": {},
   "outputs": [
    {
     "name": "stdout",
     "output_type": "stream",
     "text": [
      "with all: ([4, 5, 0, 3, 2, 1], [0.551, 0.696, 0.736, 0.739, 0.736, 0.725])\n",
      "without Gender: ([4, 5, 0, 3, 2], [0.551, 0.697, 0.731, 0.736, 0.751])\n",
      "without FamMem: ([4, 5, 0, 3, 1], [0.551, 0.701, 0.733, 0.73, 0.729])\n",
      "without Both: ([4, 5, 0, 3], [0.551, 0.696, 0.737, 0.737])\n"
     ]
    }
   ],
   "source": [
    "#Run the test on the AccumulationInvestment target\n",
    "print(\"with all:\", forwardFeatureSelect(withAll, TT_train, TT_test, 0))\n",
    "print(\"without Gender:\", forwardFeatureSelect(withoutGender, TT_train, TT_test, 0))\n",
    "print(\"without FamMem:\", forwardFeatureSelect(withoutFamMem, TT_train, TT_test, 0))\n",
    "print(\"without Both:\", forwardFeatureSelect(withoutBoth, TT_train, TT_test, 0))"
   ]
  },
  {
   "cell_type": "markdown",
   "metadata": {},
   "source": [
    "Here, once again, we have the same result. The new feature does not change our result.\n",
    "\n",
    "We succesed to catch the relevant informations of our features *FinancialEducation* and *RiskPropensity*, by doing the ratio, and transfert it on a new feature that we can call *RatioFeature*. We reduce our features space from a 7-dimensions to 4-dimensions.\n",
    "\n",
    "Our final space contains the features *Age*, *RatioFeature*, *logIncome* and *logWealth*."
   ]
  },
  {
   "cell_type": "code",
   "execution_count": 20,
   "metadata": {},
   "outputs": [],
   "source": [
    "X_train_old, X_test_old = X_train, X_test\n",
    "\n",
    "#New dataset\n",
    "X_train = np.c_[X_train[:,[0,1,2]], (X_train[:,3]/X_train[:,4]), X_train[:,[5,6]]]\n",
    "X_test = np.c_[X_test[:,[0,1,2]], (X_test[:,3]/X_test[:,4]), X_test[:,[5,6]]]"
   ]
  },
  {
   "cell_type": "markdown",
   "metadata": {},
   "source": [
    "With simple model, we can thus confirm our idea.\n",
    "We have to be aware that this is maybe biased since models are simple and we don't optimize them.\n",
    "\n",
    "Let us see thus with a litle bit more complex model, to reduce the bias : a random forest.\n",
    "We train it without optimize it but it still relevant for us. We want to compute feature importance that part for interpretability in order to optimize in future model the use of our features."
   ]
  },
  {
   "cell_type": "code",
   "execution_count": 21,
   "metadata": {},
   "outputs": [],
   "source": [
    "# function to plot feature importance of a Random Forest\n",
    "\n",
    "def plot_feature_importance(importance,names,model_type):\n",
    "\n",
    "    #Create arrays from feature importance and feature names\n",
    "    feature_importance = np.array(importance)\n",
    "    feature_names = np.array(names)\n",
    "\n",
    "    #Create a DataFrame using a Dictionary\n",
    "    data={'feature_names':feature_names,'feature_importance':feature_importance}\n",
    "    fi_df = pd.DataFrame(data)\n",
    "\n",
    "    #Sort the DataFrame in order decreasing feature importance\n",
    "    fi_df.sort_values(by=['feature_importance'], ascending=False,inplace=True)\n",
    "\n",
    "    #Define size of bar plot\n",
    "    plt.figure(figsize=(10,8))\n",
    "    #Plot Searborn bar chart\n",
    "    sns.barplot(x=fi_df['feature_importance'], y=fi_df['feature_names'])\n",
    "    #Add chart labels\n",
    "    plt.title(model_type)\n",
    "    plt.xlabel('FEATURE IMPORTANCE')\n",
    "    plt.ylabel('FEATURE NAMES')"
   ]
  },
  {
   "cell_type": "code",
   "execution_count": 22,
   "metadata": {},
   "outputs": [
    {
     "data": {
      "image/png": "[encoded data removed]",
      "text/plain": [
       "<Figure size 720x576 with 1 Axes>"
      ]
     },
     "metadata": {
      "needs_background": "light"
     },
     "output_type": "display_data"
    }
   ],
   "source": [
    "# order of our features\n",
    "c = [\"Age\", \"Gender\", \"FamilyMembers\", \"RatioFeature\", \"logIncome\", \"logWealth\"]\n",
    "#random forest classifier\n",
    "AccumulationRF = RF()\n",
    "IncomeRF = RF()\n",
    "AccumulationRF.fit(X_train, Acc_train)\n",
    "IncomeRF.fit(X_train, Inc_train)\n",
    "plot_feature_importance(AccumulationRF.feature_importances_, c,'RF feature Importance for AccumulationInvestment target')"
   ]
  },
  {
   "cell_type": "markdown",
   "metadata": {},
   "source": [
    "For the target **AccumulationInvestment**, the feature importance is coherent with what we have done."
   ]
  },
  {
   "cell_type": "code",
   "execution_count": 23,
   "metadata": {},
   "outputs": [
    {
     "data": {
      "image/png": "[encoded data removed]",
      "text/plain": [
       "<Figure size 720x576 with 1 Axes>"
      ]
     },
     "metadata": {
      "needs_background": "light"
     },
     "output_type": "display_data"
    }
   ],
   "source": [
    "plot_feature_importance(IncomeRF.feature_importances_, c,'RF feature Importance for IncomeInvestmentincome target')"
   ]
  },
  {
   "cell_type": "markdown",
   "metadata": {},
   "source": [
    "For the target **IncomeInvestmentincome**, once again our prediction is coherent with this result."
   ]
  },
  {
   "cell_type": "markdown",
   "metadata": {},
   "source": [
    "As we can see, FamilyMembers and Gender doesn't seems to play a big role in our model. This is what we was expected to have and with the different methods we have used, we are quite certain of our result.\n",
    "\n",
    "Others features were important for us and in this last technique it is proves to be just. All seems to have a importance non-negligeable. \n",
    "\n",
    "We thus can train model with 4 feature instead of 7. The gap isn't huge but it is more for business interpretation. We also avoid overfiting by reducing the problem.\n"
   ]
  },
  {
   "cell_type": "markdown",
   "metadata": {},
   "source": [
    "## **Summary :**  \n",
    "\n",
    "We have shown that our knowledge on the subject can be shown explorating the data. But this is not enough to validate some assumptions and to generalize it to all future dataset. \n",
    "\n",
    "We have thus shown that with some simple metrics and models we can model these knowledge and with a known bias interpret the output. \n",
    "\n",
    "We are thus almost sure that the features FamilyMembers and Gender aren't relevant for our problem and thus we can remove them before doing complex modelisation. \n",
    "\n",
    "This can help us to avoid doing overfitting. Also, it reduce the computational cost. And finally we use the principe of parsimony in the financial way : keep as less as feature needed meaning they have importance and business interpretation."
   ]
  },
  {
   "cell_type": "code",
   "execution_count": 26,
   "metadata": {},
   "outputs": [
    {
     "name": "stdout",
     "output_type": "stream",
     "text": [
      "Stored 'X' (ndarray)\n",
      "Stored 't_inc' (ndarray)\n",
      "Stored 't_acc' (ndarray)\n"
     ]
    }
   ],
   "source": [
    "#Final Feature Selection\n",
    "\n",
    "X = np.c_[X[:,0], (X[:,3]/X[:,4]), X[:,[5,6]]] # => [\"Age\", \"FinancialEducation/RiskPropensity\", \"logIncome\", \"logWealth\"]\n",
    "\n",
    "%store X\n",
    "%store t_inc\n",
    "%store t_acc"
   ]
  },
  {
   "cell_type": "markdown",
   "metadata": {},
   "source": [
    "We are now ready to train complex models and to provide true performance of ML algorithm in order to solve our problem : match people with their needs"
   ]
  }
 ],
 "metadata": {
  "interpreter": {
   "hash": "e7370f93d1d0cde622a1f8e1c04877d8463912d04d973331ad4851f04de6915a"
  },
  "kernelspec": {
   "display_name": "Python 3.10.4 64-bit",
   "language": "python",
   "name": "python3"
  },
  "language_info": {
   "codemirror_mode": {
    "name": "ipython",
    "version": 3
   },
   "file_extension": ".py",
   "mimetype": "text/x-python",
   "name": "python",
   "nbconvert_exporter": "python",
   "pygments_lexer": "ipython3",
   "version": "3.10.4"
  },
  "orig_nbformat": 4
 },
 "nbformat": 4,
 "nbformat_minor": 2
}
