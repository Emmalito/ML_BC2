{
 "cells": [
  {
   "cell_type": "markdown",
   "metadata": {},
   "source": [
    "## 4- Next Best Action\n",
    "\n",
    "Now, we have our models that allows us to have the prediction of a sample. The next steps is to create a recommandation system, which use our models, to recommend the best product for a client.\n",
    "\n",
    "To do it, we will use some famous recommandation systems and will explain in which case is preferable to use it. "
   ]
  },
  {
   "cell_type": "code",
   "execution_count": 2,
   "metadata": {},
   "outputs": [],
   "source": [
    "#Classical libraries\n",
    "import pandas as pd\n",
    "\n",
    "#Our functions\n",
    "from nbaFnct import *"
   ]
  },
  {
   "cell_type": "markdown",
   "metadata": {},
   "source": [
    "First, let us import our product datas"
   ]
  },
  {
   "cell_type": "code",
   "execution_count": 3,
   "metadata": {},
   "outputs": [
    {
     "data": {
      "text/html": [
       "<div>\n",
       "<style scoped>\n",
       "    .dataframe tbody tr th:only-of-type {\n",
       "        vertical-align: middle;\n",
       "    }\n",
       "\n",
       "    .dataframe tbody tr th {\n",
       "        vertical-align: top;\n",
       "    }\n",
       "\n",
       "    .dataframe thead th {\n",
       "        text-align: right;\n",
       "    }\n",
       "</style>\n",
       "<table border=\"1\" class=\"dataframe\">\n",
       "  <thead>\n",
       "    <tr style=\"text-align: right;\">\n",
       "      <th></th>\n",
       "      <th>Type</th>\n",
       "      <th>Risk</th>\n",
       "    </tr>\n",
       "    <tr>\n",
       "      <th>IDProduct</th>\n",
       "      <th></th>\n",
       "      <th></th>\n",
       "    </tr>\n",
       "  </thead>\n",
       "  <tbody>\n",
       "    <tr>\n",
       "      <th>1</th>\n",
       "      <td>1</td>\n",
       "      <td>0.55</td>\n",
       "    </tr>\n",
       "    <tr>\n",
       "      <th>2</th>\n",
       "      <td>0</td>\n",
       "      <td>0.30</td>\n",
       "    </tr>\n",
       "    <tr>\n",
       "      <th>3</th>\n",
       "      <td>0</td>\n",
       "      <td>0.12</td>\n",
       "    </tr>\n",
       "    <tr>\n",
       "      <th>4</th>\n",
       "      <td>0</td>\n",
       "      <td>0.44</td>\n",
       "    </tr>\n",
       "    <tr>\n",
       "      <th>5</th>\n",
       "      <td>1</td>\n",
       "      <td>0.41</td>\n",
       "    </tr>\n",
       "  </tbody>\n",
       "</table>\n",
       "</div>"
      ],
      "text/plain": [
       "           Type  Risk\n",
       "IDProduct            \n",
       "1             1  0.55\n",
       "2             0  0.30\n",
       "3             0  0.12\n",
       "4             0  0.44\n",
       "5             1  0.41"
      ]
     },
     "execution_count": 3,
     "metadata": {},
     "output_type": "execute_result"
    }
   ],
   "source": [
    "#productData = pd.read_excel('Needs.xls', index_col=0)\n",
    "xls = pd.ExcelFile('Needs.xls')\n",
    "productsData = pd.read_excel(xls, 'Products', index_col=0)\n",
    "productsData.head()"
   ]
  },
  {
   "cell_type": "markdown",
   "metadata": {},
   "source": [
    "This dataset contains all the products, their type (1 = Accumulation and 0 = Income) and a normalized synthetic risk indicator."
   ]
  },
  {
   "cell_type": "code",
   "execution_count": null,
   "metadata": {},
   "outputs": [],
   "source": [
    "Product_inc = productsData[productsData[\"Type\"]==1].sort_values(by=['Risk'], ascending=False)\n",
    "Product_acc = productsData[productsData[\"Type\"]==0].sort_values(by=['Risk'], ascending=False)\n",
    "print(Product_acc)"
   ]
  },
  {
   "cell_type": "code",
   "execution_count": null,
   "metadata": {},
   "outputs": [],
   "source": [
    "print(Product_acc.index[1])"
   ]
  },
  {
   "cell_type": "code",
   "execution_count": null,
   "metadata": {},
   "outputs": [],
   "source": [
    "def NBA_acc(clientRisk):\n",
    "    index=0\n",
    "    while index < len(Product_acc) and clientRisk < Product_acc[\"Risk\"].values[index]:\n",
    "        index+=1\n",
    "    if index == len(Product_acc):\n",
    "        return 0\n",
    "    return Product_acc.index.values[index:] "
   ]
  },
  {
   "cell_type": "code",
   "execution_count": null,
   "metadata": {},
   "outputs": [],
   "source": [
    "def NBA_inc(clientRisk):\n",
    "    index=0\n",
    "    while index < len(Product_inc) and clientRisk < Product_inc[\"Risk\"].values[index]:\n",
    "        index+=1\n",
    "    if index == len(Product_inc):\n",
    "        return 0\n",
    "    return Product_inc.index.values[index:] "
   ]
  },
  {
   "cell_type": "code",
   "execution_count": null,
   "metadata": {},
   "outputs": [],
   "source": [
    "print(dataset['RiskPropensity'].values)"
   ]
  },
  {
   "cell_type": "code",
   "execution_count": null,
   "metadata": {},
   "outputs": [],
   "source": [
    "idClient = dataset.index.values\n",
    "riskClient = dataset['RiskPropensity'].values\n",
    "NBA=[[0,0,0]]*len(X)\n",
    "for index in range(len(X)) :\n",
    "    clientRisk = riskClient[index]\n",
    "    NBA[index] = idClient[index], NBA_inc(clientRisk), NBA_acc(clientRisk)\n"
   ]
  },
  {
   "cell_type": "code",
   "execution_count": null,
   "metadata": {},
   "outputs": [],
   "source": [
    "for i in range(4):\n",
    "    print(\"IdClient:\", NBA[i][0], \" needs Inc product(s):\", NBA[i][1], \"and Acc product(s):\", NBA[i][2])"
   ]
  },
  {
   "cell_type": "code",
   "execution_count": null,
   "metadata": {},
   "outputs": [],
   "source": [
    "#b = len(X_train)//100\n",
    "#lr_model_history = nnAccMod.fit(X_train, Acc_train, batch_size=b, epochs=300, validation_data=(X_val, Acc_val), verbose=0)\n",
    "#\n",
    "## Plot the loss function\n",
    "#fig, ax = plt.subplots(1, 1, figsize=(10,6))\n",
    "#ax.plot(np.sqrt(lr_model_history.history['loss']), 'r', label='train')\n",
    "#ax.plot(np.sqrt(lr_model_history.history['val_loss']), 'b' ,label='val')\n",
    "#ax.set_xlabel(r'Epoch', fontsize=20)\n",
    "#ax.set_ylabel(r'Loss', fontsize=20)\n",
    "#ax.legend()\n",
    "#ax.tick_params(labelsize=20)\n",
    "#\n",
    "## Plot the accuracy\n",
    "#fig, ax = plt.subplots(1, 1, figsize=(10,6))\n",
    "#ax.plot(np.sqrt(lr_model_history.history['accuracy']), 'r', label='train')\n",
    "#ax.plot(np.sqrt(lr_model_history.history['val_accuracy']), 'b' ,label='val')\n",
    "#ax.set_xlabel(r'Epoch', fontsize=20)\n",
    "#ax.set_ylabel(r'Accuracy', fontsize=20)\n",
    "#ax.legend()\n",
    "#ax.tick_params(labelsize=20)"
   ]
  }
 ],
 "metadata": {
  "interpreter": {
   "hash": "916dbcbb3f70747c44a77c7bcd40155683ae19c65e1c03b4aa3499c5328201f1"
  },
  "kernelspec": {
   "display_name": "Python 3.8.10 64-bit",
   "language": "python",
   "name": "python3"
  },
  "language_info": {
   "codemirror_mode": {
    "name": "ipython",
    "version": 3
   },
   "file_extension": ".py",
   "mimetype": "text/x-python",
   "name": "python",
   "nbconvert_exporter": "python",
   "pygments_lexer": "ipython3",
   "version": "3.8.10"
  },
  "orig_nbformat": 4
 },
 "nbformat": 4,
 "nbformat_minor": 2
}
